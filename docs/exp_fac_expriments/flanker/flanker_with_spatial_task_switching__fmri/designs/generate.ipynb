{
 "cells": [
  {
   "cell_type": "code",
   "execution_count": 1,
   "metadata": {},
   "outputs": [],
   "source": [
    "import random\n",
    "import math"
   ]
  },
  {
   "cell_type": "code",
   "execution_count": 2,
   "metadata": {},
   "outputs": [],
   "source": [
    "def generate_ITIs_file(filename):\n",
    "    mean = 1.5\n",
    "    minimum = 0\n",
    "    maximum = 5\n",
    "\n",
    "    with open(filename, 'w') as file:\n",
    "        for _ in range(200):\n",
    "            value = random.expovariate(1 / mean)\n",
    "            value = max(minimum, min(value, maximum))\n",
    "            file.write(str(value) + '\\n')\n",
    "generate_ITIs_file(\"design_0/ITIs_clean.txt\")\n",
    "generate_ITIs_file(\"design_1/ITIs_clean.txt\")"
   ]
  },
  {
   "cell_type": "code",
   "execution_count": 3,
   "metadata": {},
   "outputs": [],
   "source": [
    "events_clean_1 = 'design_0/events_clean.txt'\n",
    "events_clean_2 = 'design_1/events_clean.txt'\n",
    "\n",
    "ITIs_clean_1 = 'design_0/ITIs_clean.txt'\n",
    "ITIs_clean_2 = 'design_1/ITIs_clean.txt'"
   ]
  },
  {
   "cell_type": "code",
   "execution_count": 4,
   "metadata": {},
   "outputs": [],
   "source": [
    "def generate_events_file(filename):\n",
    "    shape_matching_labels = [\"tstaycswitch\", \"tstaycstay\", \"tswitchcswitch\"] # should be half of tswitchcswitch\n",
    "    flanker_labels = [\"congruent\", \"incongruent\"]\n",
    "    labels = []\n",
    "\n",
    "    for shape_label in shape_matching_labels:\n",
    "        for flanker_label in flanker_labels:\n",
    "            combined_label = shape_label + '_' + flanker_label\n",
    "            labels.append(combined_label)\n",
    "\n",
    "    with open(filename, 'w') as file:\n",
    "        for _ in range(200):\n",
    "            random_label = random.choice(labels)\n",
    "            file.write(random_label + '\\n')"
   ]
  },
  {
   "cell_type": "code",
   "execution_count": 5,
   "metadata": {},
   "outputs": [],
   "source": [
    "generate_events_file(\"design_0/events_clean.txt\")\n",
    "generate_events_file(\"design_1/events_clean.txt\")"
   ]
  }
 ],
 "metadata": {
  "kernelspec": {
   "display_name": "Python 3",
   "language": "python",
   "name": "python3"
  },
  "language_info": {
   "codemirror_mode": {
    "name": "ipython",
    "version": 3
   },
   "file_extension": ".py",
   "mimetype": "text/x-python",
   "name": "python",
   "nbconvert_exporter": "python",
   "pygments_lexer": "ipython3",
   "version": "3.11.3"
  },
  "orig_nbformat": 4
 },
 "nbformat": 4,
 "nbformat_minor": 2
}
